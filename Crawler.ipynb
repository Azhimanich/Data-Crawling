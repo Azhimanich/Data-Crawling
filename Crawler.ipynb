{
  "nbformat": 4,
  "nbformat_minor": 0,
  "metadata": {
    "colab": {
      "provenance": [],
      "include_colab_link": true
    },
    "kernelspec": {
      "name": "python3",
      "display_name": "Python 3"
    },
    "language_info": {
      "name": "python"
    }
  },
  "cells": [
    {
      "cell_type": "markdown",
      "metadata": {
        "id": "view-in-github",
        "colab_type": "text"
      },
      "source": [
        "<a href=\"https://colab.research.google.com/github/Azhimanich/Data-Crawling/blob/main/Crawler.ipynb\" target=\"_parent\"><img src=\"https://colab.research.google.com/assets/colab-badge.svg\" alt=\"Open In Colab\"/></a>"
      ]
    },
    {
      "cell_type": "code",
      "execution_count": 1,
      "metadata": {
        "id": "QOd7HgLi5SoT"
      },
      "outputs": [],
      "source": [
        "from urllib.parse import urljoin\n",
        "from urllib.parse import urlparse\n",
        "from urllib.parse import urldefrag\n",
        "import requests\n",
        "import time\n",
        "from bs4 import BeautifulSoup\n",
        "from collections import OrderedDict"
      ]
    },
    {
      "cell_type": "code",
      "source": [
        "class Crawler:\n",
        "\n",
        "    def __init__(self, urls=[]):\n",
        "        self.visited_urls = []\n",
        "        self.urls_to_visit = urls\n",
        "\n",
        "    def download_url(self, url):\n",
        "        s = requests.Session()\n",
        "        headers = OrderedDict({\n",
        "            'Accept-Encoding': 'gzip, deflate, br',\n",
        "            'User-Agent': 'Mozilla/5.0 (Windows NT 10.0; Win64; x64; rv:77.0) Gecko/20100101 Firefox/77.0'\n",
        "        })\n",
        "        s.headers = headers\n",
        "        return s.get(url, headers=headers).text\n",
        "\n",
        "    def get_linked_urls(self, url, html):\n",
        "        soup = BeautifulSoup(html, 'html.parser')\n",
        "\n",
        "        # MODIFIKASI SESUAI KEBUTUHAN\n",
        "        for link in soup.find_all('a', {'class': 'article__link'}):\n",
        "            path = link.get('href')\n",
        "            if path and path.startswith('/'):\n",
        "                path = urljoin(url, path)\n",
        "            yield path\n",
        "\n",
        "    def add_url_to_visit(self, url):\n",
        "        defrag_parts = urldefrag(url)\n",
        "        defrag_url = defrag_parts[0]\n",
        "        if defrag_url not in self.visited_urls and defrag_url not in self.urls_to_visit:\n",
        "            self.urls_to_visit.append(defrag_url)\n",
        "\n",
        "    def crawl(self, url):\n",
        "        html = self.download_url(url)\n",
        "\n",
        "        for url in self.get_linked_urls(url, html):\n",
        "            self.add_url_to_visit(url)\n",
        "\n",
        "    def run(self):\n",
        "        parsed_uri = urlparse(self.urls_to_visit[0])\n",
        "        domain_uri = '{uri.scheme}://{uri.netloc}'.format(uri=parsed_uri)\n",
        "\n",
        "        # MODIFIKASI SESUAI KEBUTUHAN\n",
        "        max_num_of_crawls = 3\n",
        "        num_of_crawls = 0\n",
        "\n",
        "        while self.urls_to_visit and num_of_crawls < max_num_of_crawls:\n",
        "            url = self.urls_to_visit.pop(0)\n",
        "            parsed_url = urlparse(url)\n",
        "            domain_url = '{uri.scheme}://{uri.netloc}'.format(uri=parsed_url)\n",
        "\n",
        "            if domain_uri == domain_url:\n",
        "                time.sleep(1)\n",
        "                try:\n",
        "                    self.crawl(url)\n",
        "                except Exception:\n",
        "                    print(f'Failed to crawl: {url}')\n",
        "                finally:\n",
        "                    self.visited_urls.append(url)\n",
        "            else:\n",
        "                print(url)\n",
        "\n",
        "                html = self.download_url(url)\n",
        "                soup = BeautifulSoup(html, 'html.parser')\n",
        "                content = soup.find(\"div\", {\"class\": \"read__content\"})\n",
        "                # Returns all the text in a document or beneath a tag, as a single Unicode string\n",
        "                print(content.get_text())\n",
        "\n",
        "            num_of_crawls = num_of_crawls + 1"
      ],
      "metadata": {
        "id": "bL6kXapO7tFG"
      },
      "execution_count": null,
      "outputs": []
    },
    {
      "cell_type": "code",
      "source": [
        "Crawler(urls=['https://kompas.com']).run()"
      ],
      "metadata": {
        "colab": {
          "base_uri": "https://localhost:8080/"
        },
        "id": "Z0sv3G1z8H-S",
        "outputId": "25ac9859-8eec-4c27-e506-58f52de17068"
      },
      "execution_count": null,
      "outputs": [
        {
          "output_type": "stream",
          "name": "stdout",
          "text": [
            "https://tekno.kompas.com/read/2023/10/05/13400087/suasana-tiktok-live-setelah-keranjang-kuning-dihapus-masih-ramai-penjual-dan\n",
            "\n",
            "\n",
            "KOMPAS.com - Layanan TikTok Shop yang ada di aplikasi TikTok di Indonesia resmi dihentikan pada Rabu (4/10/2023) pukul 17.00 WIB.\n",
            "Artinya, pengguna TikTok saat ini tak bisa lagi menemukan beragam menu yang berkaitan dengan TikTok Shop, yaitu fitur \"keranjang kuning\" yang biasa dipakai untuk membeli barang, atau menu \"Shop\" itu sendiri. \n",
            "Meski TikTok Shop sudah ditutup, para pedagang tampaknya masih tetap berbondong-bondong berjualan dan menawarkan produknya masing-masing secara langsung melalui fitur siaran langsung alias TikTok Live.\n",
            "Baca juga: Masih Ada Penjual yang Live di TikTok, tapi Tidak Bisa Transaksi\n",
            "Pantauan KompasTekno pada Kamis (5/10/2023) pagi, ketika kami mengeklik ikon \"Live\" di aplikasi TikTok, kami langsung disuguhkan dengan konten TikTok Live yang sedang berjualan, meski sudah tak ada lagi fitur keranjang kuning.\n",
            "Kemudian, kami mencoba menggulirkan (scroll) layar untuk melihat konten-konten TikTok Live apa saja yang sedang berlangsung pada saat itu. \n",
            "Dari 10 konten TikTok Live, kami disuguhkan dengan delapan konten TikTok Live yang isinya merupakan penawaran produk alias orang berjualan.\n",
            "Penasaran, kami menutup aplikasi TikTok dan membukanya kembali, serta masuk ke menu TikTok Live. Hasilnya tetap serupa, dari 10 konten TikTok lainnya yang muncul di lini masa, tujuh konten merupakan live berjualan. \n",
            "Bisa disimpulkan bahwa pengguna yang berjualan atau mempromosikan produknya di TikTok Live masih banyak dan tetap ramai, meski fitur TikTok Shop sudah ditutup kemarin.\n",
            "Penjual tetap bersemangat\n",
            "KOMPAS.com/Bill Clinten Ilustrasi pedagang yang masih berjualan di TikTok via TikTok Live.\n",
            "Nah, di dalam konten-konten TikTok Live yang kami amati tadi, para penjual tampak tetap bersemangat menawarkan produk-produk yang dijual, terlepas dari fitur keranjang kuning yang hilang. \n",
            "Baca juga: Ramai Warganet Keluhkan Tak Bisa Buka TikTok Shop\n",
            "Para pedagang juga terlihat tetap antusias untuk memenuhi permintaan pengguna dan calon pembeli yang menonton konten TikTok Live yang sedang berlangsung.\n",
            "Dalam satu konten TikTok Live yang berjualan sepatu, misalnya, kami melihat pedagang mengabulkan permintaan penonton untuk menunjukkan tampilan sebuah sepatu yang mereka inginkan.\n",
            "Karena fitur keranjang kuning hilang, para penjual juga terlihat cukup telaten untuk melayani para calon pembeli yang kebingungan.\n",
            "Bisa dibilang telaten karena mereka memberi tahu langkah-langkah pembelian atau transaksi barang (checkout) via kanal alternatif setelah ikon keranjang kuning hilang.\n",
            "Sekadar informasi, alternatif checkout ini bisa berupa menghubungi langsung nomor penjual, memberikan data nama dan nomor telepon ke penjual, serta mengeklik informasi \"bio\" yang ada di profil TikTok penjual. \n",
            " \n",
            "\n",
            "https://www.kompas.com/tren/read/2023/10/06/063000265/pengguna-shopee-tak-bisa-beli-barang-dari-luar-negeri-ini-alasannya\n",
            "\n",
            "\n",
            "KOMPAS.com - Lini masa media sosial X (dulu Twitter) ramai memperbincangkan e-commerce Shopee yang tak lagi membuka pembelian barang dari luar negeri.\n",
            "Hal itu salah satunya diunggah akun @convomf, Rabu (4/10/2023) yang menyebutkan jika penjualan produk dari penjual luar negeri di e-commerce Shopee telah ditangguhkan.\n",
            "Namun, pengguna masih dapat melakukan ekspor atau penjualan dari Indonesia ke wilayah luar negeri.\n",
            "\"Walah.. kukira cuma tt shop,\" tulis pengunggah.\n",
            "Hingga Kamis (5/10/2023) sore, unggahan ini telah dilihat lebih dari 983.000 kali, disukai 6.300 pengguna, dan diunggah ulang oleh lebih dari 2.100 warganet X.\n",
            "Lantas, bagaimana tanggapan Shopee Indonesia?\n",
            "Baca juga: Syarat Menjadi Mitra Shopee Food, Apa Saja yang Perlu Dipersiapkan?\n",
            "\n",
            "Shopee hentikan penjualan produk dari luar negeri\n",
            "Head of Public Policy Shopee Indonesia Radityo Triatmojo menjelaskan, pihaknya secara resmi menghentikan penjualan produk dari penjual luar negeri atau cross border sejak 4 Oktober 2023 pukul 22.00 WIB.\n",
            "Langkah ini merupakan penyesuaian atas Peraturan Menteri Perdagangan (Permendag) Nomor 31 Tahun 2023, hasil revisi Permendag Nomor 50 Tahun 2020 tentang Perizinan Berusaha, Periklanan, Pembinaan, dan Pengawasan Pelaku Usaha dalam Perdagangan Melalui Sistem Elektronik.\n",
            "Radityo memaparkan, transaksi cross border di Shopee tercatat kurang dari satu persen.\n",
            "Mekanisme cross border yang berlangsung pun telah sesuai dengan proses dalam peraturan perundang-undangan, seperti perpajakan.\n",
            "Pihaknya juga mengklaim, penjualan dari penjual luar negeri tersebut juga bukan untuk produk yang bersaing dengan usaha mikro, kecil, dan menengah (UMKM).\n",
            "\"Dapat kami sampaikan bahwa produk yang dijual secara cross border di Shopee bukanlah produk yang bersaing langsung dengan produk UMKM,\" ujarnya kepada Kompas.com, Kamis (5/10/2023).\n",
            "Dia melanjutkan, pihaknya telah menutup 14 kategori produk cross border yang bersaing dengan produk UMKM sesuai arahan Kementerian Koperasi dan UKM pada 2021 lalu.\n",
            "Baca juga: Cara Bayar Belanja Online di Shopee lewat Transfer Bank\n",
            "Cross border Shopee agar produk lokal mendunia\n",
            "Menurutnya, selama ini cross border di Shopee Indonesia bertujuan agar produk lokal memiliki peluang dan kesempatan serupa untuk mengakses pasar ekspor secara langsung.\n",
            "Bahkan, saat ini, sudah ada lebih dari 20 juta produk UMKM lokal yang tersedia di pasar lintas batas di kawasan Asia Tenggara, Asia Timur, serta Amerika Latin.\n",
            "\"Kami akan berusaha meski ditutupnya penjual cross border di Indonesia, tidak memengaruhi kegiatan ekspor produk Indonesia yang sudah berjalan saat ini,\" kata Radityo.\n",
            "Radityo menambahkan, Shopee terus berkomitmen untuk mengembangkan produk lokal. Bukan hanya di pasar dalam negeri, pengembangan juga dilakukan hingga pasar luar negeri.\n",
            "\"Salah satunya melalui kegiatan yang dilakukan di 10 Kampus UMKM Shopee yang tersebar di Indonesia,\" tutupnya.\n",
            "Dapatkan update berita pilihan dan breaking news setiap hari dari Kompas.com. Mari bergabung di Grup Telegram \"Kompas.com News Update\", caranya klik link https://t.me/kompascomupdate, kemudian join. Anda harus install aplikasi Telegram terlebih dulu di ponsel.\n",
            "\n",
            " \n",
            "\n"
          ]
        }
      ]
    }
  ]
}